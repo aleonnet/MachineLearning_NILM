{
 "cells": [
  {
   "cell_type": "markdown",
   "metadata": {},
   "source": [
    "# Importing data and Synchronizing"
   ]
  },
  {
   "cell_type": "code",
   "execution_count": 3,
   "metadata": {},
   "outputs": [
    {
     "name": "stdout",
     "output_type": "stream",
     "text": [
      "           TS  Kettle  Microwave  Lpatop     TV\n",
      "0  1352500098    10.0        0.0     1.0  100.0\n",
      "1  1352500104    20.0        0.0     2.0  200.0\n",
      "2  1352500110    30.0        0.0     3.0    NaN\n",
      "3  1352500116    40.0        0.0     0.0  400.0\n",
      "4  1352500122     0.0        0.0     0.0  500.0\n",
      "5  1352500128     0.0        0.0     0.0  600.0\n",
      "6  1352500134     0.0        0.0     0.0    NaN\n",
      "7  1352500140     0.0        0.0     0.0    NaN\n",
      "8  1352500146    80.0        0.0     9.0    NaN\n",
      "9  1352500114     NaN        NaN     NaN  300.0\n"
     ]
    }
   ],
   "source": [
    "import glob\n",
    "import pandas as pd\n",
    "df1 = pd.read_csv('/home/louis/Desktop/Energy (copy)/channel_1.dat',delimiter = ' ', sep='\\s+', names = ['TS','Kettle'])\n",
    "df2 = pd.read_csv('/home/louis/Desktop/Energy (copy)/channel_5.dat', delimiter = ' ', index_col=None, names = ['TS','Microwave'])  \n",
    "\n",
    "path =r'/home/louis/Desktop/Energy (copy)/' # use your path\n",
    "allFiles = glob.glob(path + \"/*.dat\")\n",
    "header = ['Kettle', 'Microwave', 'Lpatop', 'TV']\n",
    "i = 0\n",
    "frame1 = pd.DataFrame(columns=['TS']) \n",
    "\n",
    "for file_ in allFiles:\n",
    "    df = pd.read_csv(file_,delimiter = ' ', names = ['TS', header[i]])\n",
    "    #frame1 = df.join(df.set_index('TS'), on='TS')\n",
    "    frame1 = frame1.merge(df, on='TS', how='outer') \n",
    "    i = i+1\n",
    "    \n",
    "#rame1 = df1.set_index('TS').join(df2.set_index('TS'))\n",
    "\n",
    "print(frame1)"
   ]
  }
 ],
 "metadata": {
  "kernelspec": {
   "display_name": "Python 3",
   "language": "python",
   "name": "python3"
  },
  "language_info": {
   "codemirror_mode": {
    "name": "ipython",
    "version": 3
   },
   "file_extension": ".py",
   "mimetype": "text/x-python",
   "name": "python",
   "nbconvert_exporter": "python",
   "pygments_lexer": "ipython3",
   "version": "3.6.7"
  }
 },
 "nbformat": 4,
 "nbformat_minor": 2
}
